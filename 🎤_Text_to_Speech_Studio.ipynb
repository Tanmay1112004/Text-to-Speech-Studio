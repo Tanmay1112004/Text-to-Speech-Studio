{
  "nbformat": 4,
  "nbformat_minor": 0,
  "metadata": {
    "colab": {
      "provenance": [],
      "gpuType": "T4"
    },
    "kernelspec": {
      "name": "python3",
      "display_name": "Python 3"
    },
    "language_info": {
      "name": "python"
    },
    "accelerator": "GPU"
  },
  "cells": [
    {
      "cell_type": "markdown",
      "source": [
        "🎤 Text-to-Speech Studio"
      ],
      "metadata": {
        "id": "8WpFgwFAOmIW"
      }
    },
    {
      "cell_type": "code",
      "source": [
        "# ========================\n",
        "# INSTALL REQUIRED LIBRARIES\n",
        "# ========================\n",
        "!pip install gtts pyttsx3 gradio --quiet\n",
        "\n",
        "# ========================\n",
        "# IMPORTS\n",
        "# ========================\n",
        "import os\n",
        "import pyttsx3\n",
        "from gtts import gTTS\n",
        "import gradio as gr\n",
        "import tempfile\n",
        "\n",
        "# ========================\n",
        "# LANGUAGE SUPPORT\n",
        "# ========================\n",
        "# Google TTS Language Codes (Indian + Foreign)\n",
        "LANGUAGES = {\n",
        "    # Indian Languages\n",
        "    \"Hindi\": \"hi\", \"Marathi\": \"mr\", \"Bengali\": \"bn\", \"Gujarati\": \"gu\",\n",
        "    \"Kannada\": \"kn\", \"Malayalam\": \"ml\", \"Punjabi\": \"pa\", \"Tamil\": \"ta\",\n",
        "    \"Telugu\": \"te\", \"Urdu\": \"ur\", \"Odia\": \"or\", \"Konkani\": \"gom\",\n",
        "\n",
        "    # Foreign Languages\n",
        "    \"English\": \"en\", \"French\": \"fr\", \"Spanish\": \"es\", \"German\": \"de\",\n",
        "    \"Italian\": \"it\", \"Portuguese\": \"pt\", \"Russian\": \"ru\", \"Japanese\": \"ja\",\n",
        "    \"Korean\": \"ko\", \"Chinese (Mandarin)\": \"zh-CN\", \"Arabic\": \"ar\"\n",
        "}\n",
        "\n",
        "# ========================\n",
        "# FUNCTION 1 - gTTS\n",
        "# ========================\n",
        "def gtts_tts(text, language, slow):\n",
        "    if not text.strip():\n",
        "        return None, \"❌ Please enter some text.\"\n",
        "\n",
        "    try:\n",
        "        tts = gTTS(text=text, lang=LANGUAGES[language], slow=slow, tld='com')\n",
        "        temp_file = tempfile.NamedTemporaryFile(delete=False, suffix=\".mp3\")\n",
        "        tts.save(temp_file.name)\n",
        "        return temp_file.name, f\"✅ Generated using Google TTS in {language}\"\n",
        "    except Exception as e:\n",
        "        return None, f\"⚠️ Error: {str(e)}\"\n",
        "\n",
        "# ========================\n",
        "# FUNCTION 2 - pyttsx3 (Offline)\n",
        "# ========================\n",
        "def pyttsx3_tts(text, voice_gender, rate):\n",
        "    if not text.strip():\n",
        "        return None, \"❌ Please enter some text.\"\n",
        "\n",
        "    try:\n",
        "        engine = pyttsx3.init()\n",
        "        voices = engine.getProperty('voices')\n",
        "\n",
        "        if voice_gender == \"Male\":\n",
        "            engine.setProperty('voice', voices[0].id)\n",
        "        else:\n",
        "            engine.setProperty('voice', voices[1].id)\n",
        "\n",
        "        engine.setProperty('rate', rate)\n",
        "        engine.setProperty('volume', 1.0)\n",
        "\n",
        "        temp_file = tempfile.NamedTemporaryFile(delete=False, suffix=\".mp3\")\n",
        "        engine.save_to_file(text, temp_file.name)\n",
        "        engine.runAndWait()\n",
        "        return temp_file.name, f\"✅ Generated using Pyttsx3 ({voice_gender} voice)\"\n",
        "    except Exception as e:\n",
        "        return None, f\"⚠️ Error: {str(e)}\"\n",
        "\n",
        "# ========================\n",
        "# GRADIO FRONTEND\n",
        "# ========================\n",
        "def generate_audio(text, mode, language, slow, voice_gender, rate):\n",
        "    if mode == \"Google TTS (Multilingual)\":\n",
        "        return gtts_tts(text, language, slow)\n",
        "    else:\n",
        "        return pyttsx3_tts(text, voice_gender, rate)\n",
        "\n",
        "with gr.Blocks(theme=gr.themes.Soft()) as app:\n",
        "    gr.Markdown(\"<h1 style='text-align:center;color:#4CAF50;'>🎤 Text-to-Speech Studio</h1>\")\n",
        "    gr.Markdown(\"<p style='text-align:center;'>Supports all major Indian + Foreign Languages | Online & Offline Modes</p>\")\n",
        "\n",
        "    with gr.Row():\n",
        "        with gr.Column():\n",
        "            text_input = gr.Textbox(label=\"Enter Your Text\", lines=6, placeholder=\"Type something amazing...\")\n",
        "            mode = gr.Radio([\"Google TTS (Multilingual)\", \"Pyttsx3 (Offline English Only)\"], value=\"Google TTS (Multilingual)\", label=\"Select Mode\")\n",
        "            language = gr.Dropdown(list(LANGUAGES.keys()), value=\"English\", label=\"Language (Google TTS only)\")\n",
        "            slow = gr.Checkbox(False, label=\"Slow Mode (Google TTS)\")\n",
        "            voice_gender = gr.Radio([\"Male\", \"Female\"], value=\"Male\", label=\"Voice Gender (Pyttsx3 only)\")\n",
        "            rate = gr.Slider(100, 250, value=150, label=\"Speaking Rate (Pyttsx3 only)\")\n",
        "            submit_btn = gr.Button(\"🎙 Generate Audio\")\n",
        "\n",
        "        with gr.Column():\n",
        "            output_audio = gr.Audio(label=\"Generated Speech\", type=\"filepath\")\n",
        "            output_status = gr.Label(label=\"Status\")\n",
        "\n",
        "    submit_btn.click(\n",
        "        generate_audio,\n",
        "        inputs=[text_input, mode, language, slow, voice_gender, rate],\n",
        "        outputs=[output_audio, output_status]\n",
        "    )\n",
        "\n",
        "# ========================\n",
        "# LAUNCH APP\n",
        "# ========================\n",
        "app.launch(debug=True)\n"
      ],
      "metadata": {
        "colab": {
          "base_uri": "https://localhost:8080/",
          "height": 704
        },
        "id": "OIwMHlANFk7F",
        "outputId": "bef5ae8e-a960-4620-adcb-064a008e284d"
      },
      "execution_count": 1,
      "outputs": [
        {
          "metadata": {
            "tags": null
          },
          "name": "stdout",
          "output_type": "stream",
          "text": [
            "\u001b[?25l   \u001b[90m━━━━━━━━━━━━━━━━━━━━━━━━━━━━━━━━━━━━━━━━\u001b[0m \u001b[32m0.0/98.2 kB\u001b[0m \u001b[31m?\u001b[0m eta \u001b[36m-:--:--\u001b[0m\r\u001b[2K   \u001b[90m━━━━━━━━━━━━━━━━━━━━━━━━━━━━━━━━━━━━━━━━\u001b[0m \u001b[32m98.2/98.2 kB\u001b[0m \u001b[31m6.9 MB/s\u001b[0m eta \u001b[36m0:00:00\u001b[0m\n",
            "\u001b[?25hIt looks like you are running Gradio on a hosted Jupyter notebook, which requires `share=True`. Automatically setting `share=True` (you can turn this off by setting `share=False` in `launch()` explicitly).\n",
            "\n",
            "Colab notebook detected. This cell will run indefinitely so that you can see errors and logs. To turn off, set debug=False in launch().\n",
            "* Running on public URL: https://bc10155d5ae5b2eb27.gradio.live\n",
            "\n",
            "This share link expires in 1 week. For free permanent hosting and GPU upgrades, run `gradio deploy` from the terminal in the working directory to deploy to Hugging Face Spaces (https://huggingface.co/spaces)\n"
          ]
        },
        {
          "data": {
            "text/html": [
              "<div><iframe src=\"https://bc10155d5ae5b2eb27.gradio.live\" width=\"100%\" height=\"500\" allow=\"autoplay; camera; microphone; clipboard-read; clipboard-write;\" frameborder=\"0\" allowfullscreen></iframe></div>"
            ],
            "text/plain": [
              "<IPython.core.display.HTML object>"
            ]
          },
          "metadata": {},
          "output_type": "display_data"
        },
        {
          "output_type": "stream",
          "name": "stdout",
          "text": [
            "Keyboard interruption in main thread... closing server.\n",
            "Killing tunnel 127.0.0.1:7860 <> https://bc10155d5ae5b2eb27.gradio.live\n"
          ]
        },
        {
          "output_type": "execute_result",
          "data": {
            "text/plain": []
          },
          "metadata": {},
          "execution_count": 1
        }
      ]
    },
    {
      "cell_type": "code",
      "source": [],
      "metadata": {
        "id": "RQK5UfPxNxsc"
      },
      "execution_count": null,
      "outputs": []
    }
  ]
}